{
 "cells": [
  {
   "cell_type": "code",
   "execution_count": 64,
   "metadata": {},
   "outputs": [
    {
     "ename": "ModuleNotFoundError",
     "evalue": "No module named 'Network'",
     "output_type": "error",
     "traceback": [
      "\u001b[0;31m---------------------------------------------------------------------------\u001b[0m",
      "\u001b[0;31mModuleNotFoundError\u001b[0m                       Traceback (most recent call last)",
      "\u001b[1;32m/data/anlab/Chunxu/DL_MOTIF/3_MVF/NODEO-DIR/register_NODEO.ipynb Cell 1\u001b[0m line \u001b[0;36m1\n\u001b[1;32m      <a href='vscode-notebook-cell://tunnel%2Btesla02/data/anlab/Chunxu/DL_MOTIF/3_MVF/NODEO-DIR/register_NODEO.ipynb#W0sdnNjb2RlLXJlbW90ZQ%3D%3D?line=8'>9</a>\u001b[0m \u001b[39mfrom\u001b[39;00m \u001b[39mdataclasses\u001b[39;00m \u001b[39mimport\u001b[39;00m dataclass\n\u001b[1;32m     <a href='vscode-notebook-cell://tunnel%2Btesla02/data/anlab/Chunxu/DL_MOTIF/3_MVF/NODEO-DIR/register_NODEO.ipynb#W0sdnNjb2RlLXJlbW90ZQ%3D%3D?line=9'>10</a>\u001b[0m \u001b[39m# from mrboost import preprocessing as pre\u001b[39;00m\n\u001b[1;32m     <a href='vscode-notebook-cell://tunnel%2Btesla02/data/anlab/Chunxu/DL_MOTIF/3_MVF/NODEO-DIR/register_NODEO.ipynb#W0sdnNjb2RlLXJlbW90ZQ%3D%3D?line=10'>11</a>\u001b[0m \u001b[39m# from mrboost import io_utils as iou\u001b[39;00m\n\u001b[1;32m     <a href='vscode-notebook-cell://tunnel%2Btesla02/data/anlab/Chunxu/DL_MOTIF/3_MVF/NODEO-DIR/register_NODEO.ipynb#W0sdnNjb2RlLXJlbW90ZQ%3D%3D?line=11'>12</a>\u001b[0m \u001b[39m# from mrboost import reconstruction as recon\u001b[39;00m\n\u001b[0;32m   (...)\u001b[0m\n\u001b[1;32m     <a href='vscode-notebook-cell://tunnel%2Btesla02/data/anlab/Chunxu/DL_MOTIF/3_MVF/NODEO-DIR/register_NODEO.ipynb#W0sdnNjb2RlLXJlbW90ZQ%3D%3D?line=14'>15</a>\u001b[0m \u001b[39m# from mrboost.coil_sensitivity_estimation import *\u001b[39;00m\n\u001b[1;32m     <a href='vscode-notebook-cell://tunnel%2Btesla02/data/anlab/Chunxu/DL_MOTIF/3_MVF/NODEO-DIR/register_NODEO.ipynb#W0sdnNjb2RlLXJlbW90ZQ%3D%3D?line=15'>16</a>\u001b[0m \u001b[39m# from mrboost.torch_utils import *\u001b[39;00m\n\u001b[0;32m---> <a href='vscode-notebook-cell://tunnel%2Btesla02/data/anlab/Chunxu/DL_MOTIF/3_MVF/NODEO-DIR/register_NODEO.ipynb#W0sdnNjb2RlLXJlbW90ZQ%3D%3D?line=18'>19</a>\u001b[0m \u001b[39mfrom\u001b[39;00m \u001b[39mNetwork\u001b[39;00m \u001b[39mimport\u001b[39;00m BrainNet\n\u001b[1;32m     <a href='vscode-notebook-cell://tunnel%2Btesla02/data/anlab/Chunxu/DL_MOTIF/3_MVF/NODEO-DIR/register_NODEO.ipynb#W0sdnNjb2RlLXJlbW90ZQ%3D%3D?line=19'>20</a>\u001b[0m \u001b[39mfrom\u001b[39;00m \u001b[39mLoss\u001b[39;00m \u001b[39mimport\u001b[39;00m \u001b[39m*\u001b[39m\n\u001b[1;32m     <a href='vscode-notebook-cell://tunnel%2Btesla02/data/anlab/Chunxu/DL_MOTIF/3_MVF/NODEO-DIR/register_NODEO.ipynb#W0sdnNjb2RlLXJlbW90ZQ%3D%3D?line=20'>21</a>\u001b[0m \u001b[39mfrom\u001b[39;00m \u001b[39mNeuralODE\u001b[39;00m \u001b[39mimport\u001b[39;00m \u001b[39m*\u001b[39m\n",
      "\u001b[0;31mModuleNotFoundError\u001b[0m: No module named 'Network'"
     ]
    }
   ],
   "source": [
    "from pathlib import Path\n",
    "import subprocess\n",
    "import zarr\n",
    "import os\n",
    "import h5py as h5\n",
    "import numpy as np\n",
    "import torch\n",
    "from einops import rearrange, reduce, repeat\n",
    "from dataclasses import dataclass\n",
    "# from mrboost import preprocessing as pre\n",
    "# from mrboost import io_utils as iou\n",
    "# from mrboost import reconstruction as recon\n",
    "# from mrboost import computation as comp\n",
    "# from mrboost.density_compensation import *\n",
    "# from mrboost.coil_sensitivity_estimation import *\n",
    "# from mrboost.torch_utils import *\n",
    "\n",
    "\n",
    "from Network import BrainNet\n",
    "from Loss import *\n",
    "from NeuralODE import *\n",
    "from Utils import *\n",
    "from Registration import registration\n",
    "\n",
    "%load_ext autoreload\n",
    "%autoreload 2"
   ]
  },
  {
   "cell_type": "code",
   "execution_count": null,
   "metadata": {},
   "outputs": [],
   "source": [
    "img_path = Path(\"/data/anlab/Chunxu/DL_MOTIF/2_P2P/DeCoLearn3D/results/CCIR_01168_ONC-DCE/0.zarr\")\n",
    "moved_path = Path('/data/anlab/Chunxu/DL_MOTIF')/\"3_MVF\"/'results'/'CCIR_01168_ONC-DCE'\n",
    "warp_path = Path('/data/anlab/Chunxu/DL_MOTIF')/\"3_MVF\"/'results'/'CCIR_01168_ONC-DCE'"
   ]
  },
  {
   "cell_type": "code",
   "execution_count": 5,
   "metadata": {},
   "outputs": [
    {
     "name": "stderr",
     "output_type": "stream",
     "text": [
      "/data-local/anlab/Chunxu/miniconda3/lib/python3.10/site-packages/torch/functional.py:504: UserWarning: torch.meshgrid: in an upcoming release, it will be required to pass the indexing argument. (Triggered internally at /opt/conda/conda-bld/pytorch_1678411187366/work/aten/src/ATen/native/TensorShape.cpp:3483.)\n",
      "  return _VF.meshgrid(tensors, **kwargs)  # type: ignore[attr-defined]\n"
     ]
    },
    {
     "name": "stdout",
     "output_type": "stream",
     "text": [
      "Iteration: 20 Loss_sim: 3.815e-02 loss_J: 0.000e+00\n",
      "Iteration: 40 Loss_sim: 3.609e-02 loss_J: 0.000e+00\n",
      "Iteration: 60 Loss_sim: 3.538e-02 loss_J: 0.000e+00\n",
      "Iteration: 80 Loss_sim: 3.482e-02 loss_J: 0.000e+00\n",
      "Iteration: 100 Loss_sim: 3.424e-02 loss_J: 0.000e+00\n",
      "Iteration: 120 Loss_sim: 3.390e-02 loss_J: 0.000e+00\n",
      "Iteration: 140 Loss_sim: 3.344e-02 loss_J: 0.000e+00\n",
      "Iteration: 160 Loss_sim: 3.314e-02 loss_J: 0.000e+00\n",
      "Iteration: 180 Loss_sim: 3.288e-02 loss_J: 7.768e-11\n",
      "Iteration: 200 Loss_sim: 3.266e-02 loss_J: 6.427e-09\n",
      "Iteration: 220 Loss_sim: 3.248e-02 loss_J: 2.030e-08\n",
      "Iteration: 240 Loss_sim: 3.230e-02 loss_J: 5.963e-08\n",
      "Iteration: 260 Loss_sim: 3.226e-02 loss_J: 6.579e-08\n",
      "Iteration: 280 Loss_sim: 3.205e-02 loss_J: 1.582e-07\n",
      "Iteration: 300 Loss_sim: 3.195e-02 loss_J: 2.190e-07\n",
      "Iteration: 20 Loss_sim: 7.521e-02 loss_J: 0.000e+00\n",
      "Iteration: 40 Loss_sim: 7.233e-02 loss_J: 0.000e+00\n",
      "Iteration: 60 Loss_sim: 7.123e-02 loss_J: 0.000e+00\n",
      "Iteration: 80 Loss_sim: 7.031e-02 loss_J: 0.000e+00\n",
      "Iteration: 100 Loss_sim: 6.940e-02 loss_J: 0.000e+00\n",
      "Iteration: 120 Loss_sim: 6.841e-02 loss_J: 0.000e+00\n",
      "Iteration: 140 Loss_sim: 6.737e-02 loss_J: 7.319e-08\n",
      "Iteration: 160 Loss_sim: 6.711e-02 loss_J: 1.997e-06\n",
      "Iteration: 180 Loss_sim: 6.575e-02 loss_J: 3.352e-06\n",
      "Iteration: 200 Loss_sim: 6.568e-02 loss_J: 3.636e-06\n",
      "Iteration: 220 Loss_sim: 6.486e-02 loss_J: 1.004e-05\n",
      "Iteration: 240 Loss_sim: 6.424e-02 loss_J: 9.072e-06\n",
      "Iteration: 260 Loss_sim: 6.459e-02 loss_J: 6.752e-06\n",
      "Iteration: 280 Loss_sim: 6.405e-02 loss_J: 1.123e-05\n",
      "Iteration: 300 Loss_sim: 6.404e-02 loss_J: 2.117e-05\n",
      "Iteration: 20 Loss_sim: 1.569e-01 loss_J: 0.000e+00\n",
      "Iteration: 40 Loss_sim: 1.416e-01 loss_J: 6.408e-07\n",
      "Iteration: 60 Loss_sim: 1.367e-01 loss_J: 4.668e-06\n",
      "Iteration: 80 Loss_sim: 1.333e-01 loss_J: 8.203e-06\n",
      "Iteration: 100 Loss_sim: 1.301e-01 loss_J: 2.814e-05\n",
      "Iteration: 120 Loss_sim: 1.267e-01 loss_J: 7.694e-05\n",
      "Iteration: 140 Loss_sim: 1.244e-01 loss_J: 2.137e-04\n",
      "Iteration: 160 Loss_sim: 1.208e-01 loss_J: 2.614e-04\n",
      "Iteration: 180 Loss_sim: 1.191e-01 loss_J: 3.517e-04\n",
      "Iteration: 200 Loss_sim: 1.173e-01 loss_J: 3.748e-04\n",
      "Iteration: 220 Loss_sim: 1.158e-01 loss_J: 3.811e-04\n",
      "Iteration: 240 Loss_sim: 1.149e-01 loss_J: 4.154e-04\n",
      "Iteration: 260 Loss_sim: 1.141e-01 loss_J: 4.209e-04\n",
      "Iteration: 280 Loss_sim: 1.134e-01 loss_J: 4.638e-04\n",
      "Iteration: 300 Loss_sim: 1.138e-01 loss_J: 3.803e-04\n",
      "Iteration: 20 Loss_sim: 2.014e-01 loss_J: 6.613e-06\n",
      "Iteration: 40 Loss_sim: 1.775e-01 loss_J: 4.669e-05\n",
      "Iteration: 60 Loss_sim: 1.702e-01 loss_J: 9.035e-05\n",
      "Iteration: 80 Loss_sim: 1.648e-01 loss_J: 1.896e-04\n",
      "Iteration: 100 Loss_sim: 1.597e-01 loss_J: 3.432e-04\n",
      "Iteration: 120 Loss_sim: 1.557e-01 loss_J: 7.250e-04\n",
      "Iteration: 140 Loss_sim: 1.526e-01 loss_J: 4.711e-04\n",
      "Iteration: 160 Loss_sim: 1.489e-01 loss_J: 5.939e-04\n",
      "Iteration: 180 Loss_sim: 1.459e-01 loss_J: 1.327e-03\n",
      "Iteration: 200 Loss_sim: 1.431e-01 loss_J: 1.037e-03\n",
      "Iteration: 220 Loss_sim: 1.436e-01 loss_J: 7.503e-04\n",
      "Iteration: 240 Loss_sim: 1.416e-01 loss_J: 8.903e-04\n",
      "Iteration: 260 Loss_sim: 1.389e-01 loss_J: 1.150e-03\n",
      "Iteration: 280 Loss_sim: 1.389e-01 loss_J: 1.665e-03\n",
      "Iteration: 300 Loss_sim: 1.368e-01 loss_J: 1.369e-03\n"
     ]
    }
   ],
   "source": [
    "\n"
   ]
  },
  {
   "cell_type": "code",
   "execution_count": null,
   "metadata": {},
   "outputs": [
    {
     "ename": "TypeError",
     "evalue": "list indices must be integers or slices, not tuple",
     "output_type": "error",
     "traceback": [
      "\u001b[0;31m---------------------------------------------------------------------------\u001b[0m",
      "\u001b[0;31mTypeError\u001b[0m                                 Traceback (most recent call last)",
      "Cell \u001b[0;32mIn[5], line 6\u001b[0m\n\u001b[1;32m      4\u001b[0m \u001b[39mfor\u001b[39;00m i \u001b[39min\u001b[39;00m \u001b[39mrange\u001b[39m(\u001b[39m5\u001b[39m):\n\u001b[1;32m      5\u001b[0m     plt\u001b[39m.\u001b[39msubplot(\u001b[39m2\u001b[39m, \u001b[39m5\u001b[39m, i\u001b[39m+\u001b[39m\u001b[39m1\u001b[39m)\n\u001b[0;32m----> 6\u001b[0m     plt\u001b[39m.\u001b[39mimshow(moved_list[i, \u001b[39m0\u001b[39;49m, :, :])\n\u001b[1;32m      7\u001b[0m     plt\u001b[39m.\u001b[39msubplot(\u001b[39m2\u001b[39m, \u001b[39m5\u001b[39m, i\u001b[39m+\u001b[39m\u001b[39m6\u001b[39m)\n\u001b[1;32m      8\u001b[0m     plt\u001b[39m.\u001b[39mimshow(fixed_list[i, \u001b[39m0\u001b[39m, :, :])\n",
      "\u001b[0;31mTypeError\u001b[0m: list indices must be integers or slices, not tuple"
     ]
    },
    {
     "data": {
      "image/png": "[encoded data removed]",
      "text/plain": [
       "<Figure size 640x480 with 1 Axes>"
      ]
     },
     "metadata": {},
     "output_type": "display_data"
    }
   ],
   "source": [
    "from matplotlib import pyplot as plt\n",
    "# plt.subplots(figsize=(10, 5))\n",
    "# plot moved image, and the original image, each of them have 5 different slices, plot them in 2 rows and 5 columns\n",
    "for i in range(5):\n",
    "    plt.subplot(2, 5, i+1)\n",
    "    plt.imshow(moved_list[i, 0, :, :])\n",
    "    plt.subplot(2, 5, i+6)\n",
    "    plt.imshow(fixed_list[i, 0, :, :])"
   ]
  }
 ],
 "metadata": {
  "kernelspec": {
   "display_name": "Python 3 (ipykernel)",
   "language": "python",
   "name": "python3"
  },
  "language_info": {
   "codemirror_mode": {
    "name": "ipython",
    "version": 3
   },
   "file_extension": ".py",
   "mimetype": "text/x-python",
   "name": "python",
   "nbconvert_exporter": "python",
   "pygments_lexer": "ipython3",
   "version": "3.10.10"
  },
  "orig_nbformat": 4
 },
 "nbformat": 4,
 "nbformat_minor": 2
}
